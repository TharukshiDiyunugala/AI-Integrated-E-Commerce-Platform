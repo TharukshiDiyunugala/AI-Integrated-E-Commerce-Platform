{
 "cells": [
  {
   "cell_type": "code",
   "execution_count": 1,
   "metadata": {},
   "outputs": [
    {
     "name": "stdout",
     "output_type": "stream",
     "text": [
      "Requirement already satisfied: pandas in c:\\users\\msi\\anaconda3\\envs\\py35\\lib\\site-packages (2.1.4)\n",
      "Requirement already satisfied: numpy in c:\\users\\msi\\anaconda3\\envs\\py35\\lib\\site-packages (1.26.0)\n",
      "Collecting scikit-surprise\n",
      "  Downloading scikit_surprise-1.1.4.tar.gz (154 kB)\n",
      "     ---------------------------------------- 0.0/154.4 kB ? eta -:--:--\n",
      "     -- ------------------------------------- 10.2/154.4 kB ? eta -:--:--\n",
      "     -- ------------------------------------- 10.2/154.4 kB ? eta -:--:--\n",
      "     ------- ----------------------------- 30.7/154.4 kB 325.1 kB/s eta 0:00:01\n",
      "     --------- --------------------------- 41.0/154.4 kB 217.9 kB/s eta 0:00:01\n",
      "     -------------- ---------------------- 61.4/154.4 kB 297.7 kB/s eta 0:00:01\n",
      "     ------------------- ----------------- 81.9/154.4 kB 327.3 kB/s eta 0:00:01\n",
      "     -------------------------- --------- 112.6/154.4 kB 364.4 kB/s eta 0:00:01\n",
      "     -----------------------------------  153.6/154.4 kB 437.1 kB/s eta 0:00:01\n",
      "     ------------------------------------ 154.4/154.4 kB 439.6 kB/s eta 0:00:00\n",
      "  Installing build dependencies: started\n",
      "  Installing build dependencies: finished with status 'done'\n",
      "  Getting requirements to build wheel: started\n",
      "  Getting requirements to build wheel: finished with status 'done'\n",
      "  Preparing metadata (pyproject.toml): started\n",
      "  Preparing metadata (pyproject.toml): finished with status 'done'\n",
      "Requirement already satisfied: python-dateutil>=2.8.2 in c:\\users\\msi\\anaconda3\\envs\\py35\\lib\\site-packages (from pandas) (2.8.2)\n",
      "Requirement already satisfied: pytz>=2020.1 in c:\\users\\msi\\anaconda3\\envs\\py35\\lib\\site-packages (from pandas) (2023.3.post1)\n",
      "Requirement already satisfied: tzdata>=2022.1 in c:\\users\\msi\\anaconda3\\envs\\py35\\lib\\site-packages (from pandas) (2023.3)\n",
      "Requirement already satisfied: joblib>=1.2.0 in c:\\users\\msi\\anaconda3\\envs\\py35\\lib\\site-packages (from scikit-surprise) (1.2.0)\n",
      "Requirement already satisfied: scipy>=1.6.0 in c:\\users\\msi\\anaconda3\\envs\\py35\\lib\\site-packages (from scikit-surprise) (1.11.3)\n",
      "Requirement already satisfied: six>=1.5 in c:\\users\\msi\\anaconda3\\envs\\py35\\lib\\site-packages (from python-dateutil>=2.8.2->pandas) (1.16.0)\n",
      "Building wheels for collected packages: scikit-surprise\n",
      "  Building wheel for scikit-surprise (pyproject.toml): started\n",
      "  Building wheel for scikit-surprise (pyproject.toml): finished with status 'done'\n",
      "  Created wheel for scikit-surprise: filename=scikit_surprise-1.1.4-cp311-cp311-win_amd64.whl size=1297543 sha256=6e6202e74bd678f9681e1dc2de2f7e2fdfa5eedecf71fa6c47a14d21f998b0ec\n",
      "  Stored in directory: c:\\users\\msi\\appdata\\local\\pip\\cache\\wheels\\2a\\8f\\6e\\7e2899163e2d85d8266daab4aa1cdabec7a6c56f83c015b5af\n",
      "Successfully built scikit-surprise\n",
      "Installing collected packages: scikit-surprise\n",
      "Successfully installed scikit-surprise-1.1.4\n",
      "Note: you may need to restart the kernel to use updated packages.\n"
     ]
    }
   ],
   "source": [
    "pip install pandas numpy scikit-surprise"
   ]
  },
  {
   "cell_type": "code",
   "execution_count": 2,
   "metadata": {},
   "outputs": [
    {
     "name": "stdout",
     "output_type": "stream",
     "text": [
      "           UserId   ProductId  Rating   Timestamp\n",
      "0  A39HTATAQ9V7YF  0205616461     5.0  1369699200\n",
      "1  A3JM6GV9MNOF9X  0558925278     3.0  1355443200\n",
      "2  A1Z513UWSAAO0F  0558925278     5.0  1404691200\n",
      "3  A1WMRR494NWEWV  0733001998     4.0  1382572800\n",
      "4  A3IAAVS479H7M7  0737104473     1.0  1274227200\n"
     ]
    }
   ],
   "source": [
    "import pandas as pd\n",
    "\n",
    "# Load dataset\n",
    "file_path = 'E:/AI-Integrated-E-Commerce-Platform/backend/ratings_Beauty.csv'  # Update with the path to your dataset\n",
    "df = pd.read_csv(file_path)\n",
    "\n",
    "# Display the first few rows\n",
    "print(df.head())\n"
   ]
  },
  {
   "cell_type": "code",
   "execution_count": 4,
   "metadata": {},
   "outputs": [
    {
     "name": "stdout",
     "output_type": "stream",
     "text": [
      "UserId       0\n",
      "ProductId    0\n",
      "Rating       0\n",
      "Timestamp    0\n",
      "dtype: int64\n",
      "           UserId   ProductId  Rating   Timestamp\n",
      "0  A39HTATAQ9V7YF  0205616461     5.0  1369699200\n",
      "1  A3JM6GV9MNOF9X  0558925278     3.0  1355443200\n",
      "2  A1Z513UWSAAO0F  0558925278     5.0  1404691200\n",
      "3  A1WMRR494NWEWV  0733001998     4.0  1382572800\n",
      "4  A3IAAVS479H7M7  0737104473     1.0  1274227200\n"
     ]
    }
   ],
   "source": [
    "# Check for missing values\n",
    "print(df.isnull().sum())\n",
    "\n",
    "# Drop rows with missing values\n",
    "df = df.dropna()\n",
    "\n",
    "# Rename columns for consistency\n",
    "df = df.rename(columns={\n",
    "    'user_id_column_name': 'UserId',     \n",
    "    'product_id_column_name': 'ProductId',  \n",
    "    'rating_column_name': 'Rating'      \n",
    "})\n",
    "\n",
    "# Ensure data types are correct\n",
    "df['UserId'] = df['UserId'].astype(str)\n",
    "df['ProductId'] = df['ProductId'].astype(str)\n",
    "df['Rating'] = df['Rating'].astype(float)\n",
    "\n",
    "# Normalize ratings (optional, if necessary)\n",
    "# df['rating'] = (df['rating'] - df['rating'].min()) / (df['rating'].max() - df['rating'].min())\n",
    "\n",
    "print(df.head())\n"
   ]
  },
  {
   "cell_type": "code",
   "execution_count": 6,
   "metadata": {},
   "outputs": [
    {
     "name": "stdout",
     "output_type": "stream",
     "text": [
      "RMSE: 1.2472\n",
      "RMSE: 1.2472468761255235\n"
     ]
    }
   ],
   "source": [
    "from surprise import SVD, Dataset, Reader\n",
    "from surprise.model_selection import train_test_split\n",
    "from surprise import accuracy\n",
    "\n",
    "# Prepare the dataset for Surprise\n",
    "reader = Reader(rating_scale=(df['Rating'].min(), df['Rating'].max()))\n",
    "data = Dataset.load_from_df(df[['UserId', 'ProductId', 'Rating']], reader)\n",
    "\n",
    "# Split data into training and testing sets\n",
    "trainset, testset = train_test_split(data, test_size=0.2)\n",
    "\n",
    "# Train the SVD model\n",
    "model = SVD()\n",
    "model.fit(trainset)\n",
    "\n",
    "# Evaluate the model\n",
    "predictions = model.test(testset)\n",
    "rmse = accuracy.rmse(predictions)\n",
    "print(f\"RMSE: {rmse}\")\n"
   ]
  }
 ],
 "metadata": {
  "kernelspec": {
   "display_name": "py35",
   "language": "python",
   "name": "python3"
  },
  "language_info": {
   "codemirror_mode": {
    "name": "ipython",
    "version": 3
   },
   "file_extension": ".py",
   "mimetype": "text/x-python",
   "name": "python",
   "nbconvert_exporter": "python",
   "pygments_lexer": "ipython3",
   "version": "3.11.5"
  }
 },
 "nbformat": 4,
 "nbformat_minor": 2
}
